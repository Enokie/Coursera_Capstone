{
 "cells": [
  {
   "cell_type": "markdown",
   "metadata": {
    "collapsed": true
   },
   "source": [
    "## End Client: Restaurant investor"
   ]
  },
  {
   "cell_type": "markdown",
   "metadata": {},
   "source": [
    "## Backgroud: \n",
    "New York City has long been one of the most sought-after places to open a restaurant. It’s also the most populous city in the country with more than eight million people and counting. For the past two centuries, New York has been the largest and wealthiest American city. More than half the people and goods that ever entered the United States came through its port, and that stream of commerce has made change a constant presence in city life.\n",
    "that’s a lot of hungry mouths to feed, so it’s no wonder more and more restaurant owners are setting up shop and it worth to invest into the field to get profits."
   ]
  },
  {
   "cell_type": "markdown",
   "metadata": {},
   "source": [
    "## Problem:\n",
    "As many restaurants as there currently are at New York City, which types of restaurants to invest plays a significant role in the success or failure of an investment. If a company made the wrong decision, it might end up getting the opposite of what investor want. Especicially with unstable factor such as number of customers, workers, transportation, materials, and so on. Consequently, investing into the correct type of restaurant is critical to the investment funds."
   ]
  },
  {
   "cell_type": "markdown",
   "metadata": {},
   "source": [
    "## Interest: \n",
    "Restaurant investor is interested in looking for a type of restaurants align with local regulation as well as competitive reputation among residents. "
   ]
  },
  {
   "cell_type": "code",
   "execution_count": null,
   "metadata": {},
   "outputs": [],
   "source": []
  }
 ],
 "metadata": {
  "kernelspec": {
   "display_name": "Python 3.6",
   "language": "python",
   "name": "python3"
  },
  "language_info": {
   "codemirror_mode": {
    "name": "ipython",
    "version": 3
   },
   "file_extension": ".py",
   "mimetype": "text/x-python",
   "name": "python",
   "nbconvert_exporter": "python",
   "pygments_lexer": "ipython3",
   "version": "3.6.9"
  }
 },
 "nbformat": 4,
 "nbformat_minor": 1
}
