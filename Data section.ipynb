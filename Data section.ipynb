{
 "cells": [
  {
   "cell_type": "markdown",
   "metadata": {
    "collapsed": true
   },
   "source": [
    "\n"
   ]
  },
  {
   "cell_type": "markdown",
   "metadata": {},
   "source": [
    "## data description\n",
    " \n",
    "For restaurants location, type of cusine, grade of inspection and location, we can find it on kaggle database use the URL: https://www.kaggle.com/new-york-city/nyc-inspections/version/1 and we will be using the dataset to perform analysis for our end client restaurant choice. \n"
   ]
  },
  {
   "cell_type": "markdown",
   "metadata": {},
   "source": [
    "## Data Cleaning and Feature\n",
    "there are 18 column in this dataset: \n",
    "- CAMIS : Restaurant number\n",
    "- DBA : type of service offered\n",
    "- BORO : general area\n",
    "- BUILDING : specific location\n",
    "- STREET : specific street name\n",
    "- ZIPCODE : individual zipcode\n",
    "- PHONE : individual phone number\n",
    "- CUISINE DESCRIPTION: type of cuisine\n",
    "- INSPECTION DATE: date of inspection\n",
    "- ACTION : type of inspection \n",
    "- VIOLATION CODE : violation code\n",
    "- VIOLATION DESCRIPTION : description\n",
    "- CRITICAL FLAG : level of severity\n",
    "- SCORE : score \n",
    "- GRADE : grade\n",
    "- GRADE DATE : grade date\n",
    "- RECORD DATE : record date\n",
    "- INSPECTION TYPE: inspection type\n"
   ]
  },
  {
   "cell_type": "code",
   "execution_count": null,
   "metadata": {},
   "outputs": [],
   "source": []
  }
 ],
 "metadata": {
  "kernelspec": {
   "display_name": "Python 3.6",
   "language": "python",
   "name": "python3"
  },
  "language_info": {
   "codemirror_mode": {
    "name": "ipython",
    "version": 3
   },
   "file_extension": ".py",
   "mimetype": "text/x-python",
   "name": "python",
   "nbconvert_exporter": "python",
   "pygments_lexer": "ipython3",
   "version": "3.6.9"
  }
 },
 "nbformat": 4,
 "nbformat_minor": 1
}
